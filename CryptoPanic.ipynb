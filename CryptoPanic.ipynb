{
 "cells": [
  {
   "cell_type": "code",
   "execution_count": null,
   "id": "a3d5411d",
   "metadata": {},
   "outputs": [],
   "source": [
    "import requests\n",
    "import pandas as pd"
   ]
  },
  {
   "cell_type": "markdown",
   "id": "3224edf9",
   "metadata": {},
   "source": [
    "# Posts"
   ]
  },
  {
   "cell_type": "code",
   "execution_count": null,
   "id": "9c513815",
   "metadata": {},
   "outputs": [],
   "source": [
    "rising_posts = requests.get('https://cryptopanic.com/api/v1/posts/?auth_token=<YOUR-TOKEN-HERE>&filter=rising').json()\n",
    "rising_posts"
   ]
  },
  {
   "cell_type": "code",
   "execution_count": null,
   "id": "977bac90",
   "metadata": {},
   "outputs": [],
   "source": [
    "rising_posts = pd.DataFrame(rising_posts['results'],\\\n",
    "                            columns=['kind', 'published_at', 'domain', 'title', 'votes'])\n",
    "rising_posts.head()"
   ]
  },
  {
   "cell_type": "code",
   "execution_count": null,
   "id": "4bb80215",
   "metadata": {},
   "outputs": [],
   "source": [
    "rising_post.votes[0]"
   ]
  },
  {
   "cell_type": "code",
   "execution_count": null,
   "id": "d3bf50c5",
   "metadata": {},
   "outputs": [],
   "source": [
    "ftm_dot = requests.get('https://cryptopanic.com/api/v1/posts/?auth_token=<YOUR-TOKEN-HERE>&currencies=FTM,DOT').json()\n",
    "ftm_dot = pd.DataFrame(ftm_dot['results'],\\\n",
    "                            columns=['kind', 'published_at', 'domain', 'title', 'votes'])\n",
    "ftm_dot.head()"
   ]
  },
  {
   "cell_type": "markdown",
   "id": "fe32aa17",
   "metadata": {},
   "source": [
    "# Media"
   ]
  },
  {
   "cell_type": "code",
   "execution_count": null,
   "id": "46218842",
   "metadata": {},
   "outputs": [],
   "source": [
    "media = requests.get('https://cryptopanic.com/api/v1/posts/?auth_token=<YOUR-TOKEN-HERE>&kind=media').json()\n",
    "media = pd.DataFrame(ftm_dot['results'],\\\n",
    "                            columns=['kind', 'published_at', 'domain', 'title', 'votes'])\n",
    "media.head()"
   ]
  },
  {
   "cell_type": "markdown",
   "id": "5a26bb07",
   "metadata": {},
   "source": [
    "# Following feed"
   ]
  },
  {
   "cell_type": "code",
   "execution_count": null,
   "id": "d85eb1a4",
   "metadata": {},
   "outputs": [],
   "source": [
    "requests.get('https://cryptopanic.com/api/v1/posts/?auth_token=<YOUR-TOKEN-HERE>&following=true').json()"
   ]
  },
  {
   "cell_type": "markdown",
   "id": "aceb358c",
   "metadata": {},
   "source": [
    "# Portfolio"
   ]
  },
  {
   "cell_type": "code",
   "execution_count": null,
   "id": "12eb9d9a",
   "metadata": {},
   "outputs": [],
   "source": [
    "requests.get('https://cryptopanic.com/api/v1/portfolio/?auth_token=<YOUR-TOKEN-HERE>').json()"
   ]
  },
  {
   "cell_type": "markdown",
   "id": "25b21329",
   "metadata": {},
   "source": [
    "# RSS Feeds"
   ]
  },
  {
   "cell_type": "code",
   "execution_count": null,
   "id": "7e6586aa",
   "metadata": {},
   "outputs": [],
   "source": [
    "feed = requests.get('https://cryptopanic.com/api/v1/posts/?auth_token=<YOUR-TOKEN-HERE>&format=rss')\n",
    "\n",
    "while True:\n",
    "    print(feed.text)"
   ]
  }
 ],
 "metadata": {
  "kernelspec": {
   "display_name": "Python 3 (ipykernel)",
   "language": "python",
   "name": "python3"
  },
  "language_info": {
   "codemirror_mode": {
    "name": "ipython",
    "version": 3
   },
   "file_extension": ".py",
   "mimetype": "text/x-python",
   "name": "python",
   "nbconvert_exporter": "python",
   "pygments_lexer": "ipython3",
   "version": "3.8.8"
  }
 },
 "nbformat": 4,
 "nbformat_minor": 5
}
